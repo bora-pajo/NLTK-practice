{
 "cells": [
  {
   "cell_type": "code",
   "execution_count": 1,
   "metadata": {},
   "outputs": [],
   "source": [
    "#intro to NLP to begin with\n",
    "#Some information onwhat NLP is and what it does\n",
    "#learn how to design an intelligent application and apply NLP knowledge\n",
    "#How computers understand language\n",
    "# how mathematical language is easier to understand\n",
    "#Backus-Naur Form of BNF\n",
    "#understanding grammar \n",
    "#if we try to say to python print 2+2+ it will get confused while humans will understand this as 4\n",
    "#python language however, will understand that as error or syntax error\n",
    "#John Backus 1924-2007 \n",
    "#The purpose of Backus Naur Form is to preciselysay the language as it should be\n",
    "#<non-terminal> - replacement\n",
    "#terminal - non replacement\n",
    "#derivation means starting with a non-terminal until you reach a terminal\n",
    "#human discourse is complex and ambiguous for a computer\n",
    "#However because humans understand and use the language not simply by rules and regulations\n",
    "#but also by intonation, tone, mood, and feeling, humans may not be very good at some things that computers excel\n",
    "#such as counting words and frequencies\n",
    "\n",
    "\n"
   ]
  },
  {
   "cell_type": "code",
   "execution_count": null,
   "metadata": {},
   "outputs": [],
   "source": [
    "#Count words\n",
    "#Udacity has an input feature here\n",
    "text= \"As I was waiting, a man came out of a side room, and at a glance I was sure he must be Long John.His left leg was cut off close by the hip, and under the left shoulder he carried a crutch, which he managed with wonderful dexterity, hopping about upon it like a bird. He was very tall and strong, with a face as big as a ham—plain and pale, but intelligent and smiling. Indeed, he seemed in the most cheerful spirits, whistling as he moved about among the tables, with a merry word or a slap on the shoulder for the more favoured of his guests.\"\n",
    "def count_words(text):\n",
    "#Count how many times each unique word occurs in the text\n",
    "    counts = dict() #dictionary of {<word>: <count>} pairs to return\n",
    "    #TODO: Convert to lowercase\n",
    "    #TODO: Split text into tokens (words), leaving out punctuation\n",
    "    #Hint use regex to split on non-alphanumeric characters\n",
    "    #TODO: Aggregate word counts using a dictionary\n",
    "    return counts\n",
    "\n",
    "def test_run():\n",
    "    with open(\"input.txt\", \"r\") as f:\n",
    "        text = f.read()\n",
    "        counts=count_words(text)\n",
    "        sorted_counts = sorted(counts.items(), key=lambda pair: pair[1], reverse=True)\n",
    "        print (\"10 most common words:\\nWord\\tCount\")\n",
    "        for word, count in sorted_counts[:10]:\n",
    "            print (\"{}\\t{}\".format(word, count))\n",
    "\n",
    "if __name__ == \"__main__\":\n",
    "    test_run()"
   ]
  },
  {
   "cell_type": "code",
   "execution_count": 2,
   "metadata": {},
   "outputs": [
    {
     "name": "stdout",
     "output_type": "stream",
     "text": [
      "something is of doesdnt in matter\n"
     ]
    }
   ],
   "source": [
    "#lower case example\n",
    "text = \"SOMETHING is of DOEsdnt in matter\"\n",
    "text1 = text.lower()\n",
    "print (text1)\n"
   ]
  },
  {
   "cell_type": "code",
   "execution_count": 3,
   "metadata": {},
   "outputs": [
    {
     "name": "stdout",
     "output_type": "stream",
     "text": [
      "[nltk_data] Downloading package punkt to\n",
      "[nltk_data]     C:\\Users\\pajob\\AppData\\Roaming\\nltk_data...\n",
      "[nltk_data]   Package punkt is already up-to-date!\n"
     ]
    }
   ],
   "source": [
    "import nltk\n",
    "nltk.download('punkt')\n",
    "import re\n",
    "import pprint\n",
    "from nltk import word_tokenize"
   ]
  },
  {
   "cell_type": "code",
   "execution_count": 4,
   "metadata": {},
   "outputs": [
    {
     "name": "stdout",
     "output_type": "stream",
     "text": [
      "['something', 'is', 'of', 'doesdnt', 'in', 'matter']\n"
     ]
    }
   ],
   "source": [
    "tokens = word_tokenize(text1)\n",
    "type(tokens)\n",
    "print (tokens)"
   ]
  },
  {
   "cell_type": "code",
   "execution_count": 5,
   "metadata": {},
   "outputs": [
    {
     "name": "stdout",
     "output_type": "stream",
     "text": [
      "['something', 'is', 'of', 'doesdnt', 'in', 'matter']\n"
     ]
    }
   ],
   "source": [
    "words = re.split(r'\\W+', text1)\n",
    "print(words)"
   ]
  },
  {
   "cell_type": "code",
   "execution_count": null,
   "metadata": {},
   "outputs": [],
   "source": [
    "#remember this has an input text attached that i dont know how it is done\n",
    "\"\"\"Count words.\"\"\"\n",
    "import re\n",
    "def count_words(text):\n",
    "    \"\"\"Count how many times each unique word occurs in text.\"\"\"\n",
    "    counts = dict()  # dictionary of { <word>: <count> } pairs to return\n",
    "    \n",
    "    # TODO: Convert to lowercase\n",
    "    text = text.lower()\n",
    "    \n",
    "    # TODO: Split text into tokens (words), leaving out punctuation\n",
    "    \n",
    "    split = re.split(r'\\W+', text)\n",
    "    word = [word for word in split if word.isalpha()]\n",
    "    \n",
    "\n",
    "    # (Hint: Use regex to split on non-alphanumeric characters)\n",
    "    \n",
    "    # TODO: Aggregate word counts using a dictionary\n",
    "\n",
    "    for i in word:\n",
    "        counts[i] = counts.get(i, 0) + 1\n",
    "    \n",
    "    return counts\n",
    "\n",
    "\n",
    "def test_run():\n",
    "    with open(\"input.txt\", \"r\") as f:\n",
    "        text = f.read()\n",
    "        counts = count_words(text)\n",
    "        sorted_counts = sorted(counts.items(), key=lambda pair: pair[1], reverse=True)\n",
    "        \n",
    "        print(\"10 most common words:\\nWord\\tCount\")\n",
    "        for word, count in sorted_counts[:10]:\n",
    "            print(\"{}\\t{}\".format(word, count))\n",
    "        \n",
    "        print(\"\\n10 least common words:\\nWord\\tCount\")\n",
    "        for word, count in sorted_counts[-10:]:\n",
    "            print(\"{}\\t{}\".format(word, count))\n",
    "\n",
    "\n",
    "if __name__ == \"__main__\":\n",
    "    test_run()\n"
   ]
  },
  {
   "cell_type": "code",
   "execution_count": 6,
   "metadata": {},
   "outputs": [],
   "source": [
    "#to understand the semantic of the sentences, we humans relate to our knowledge about the world\n",
    "#computers dont have that knowledge so it is more difficult for them to relate and understand the meaning of sarcasm\n",
    "#or things that are implied but not immediately said out loud.\n",
    "#NLP starts with raw text, structure it, make sense of it, and analyze it\n",
    "#NLP has three stages, text processing, feature extraction, and modelling\n",
    "#the goal of text processing is read it, clean it, and convert it into a form that is suitable for feature extraction\n",
    "#feature extraction extracts and represents features that are needed for the modelling\n",
    "#modelling is the last stage that is used for our purposes\n",
    "#text processing is needed as a raw input, and for the purposes of NLP we do not need any html markups\n",
    "#we also do not need anything that belongs to design\n",
    "#we need text that is free of anything that is not needed such as design or markups; punctuations, stopwords; \n",
    "#feature processing depends on the model we are using and the work we need to do. often for statistical modelling we need\n",
    "#some form of number; if you want to use a graph based model to extract insight, you may need to present your words as symbolic nodes\n",
    "#with relationship between them like wordnet\n",
    "#for statistical modelling, we need some form of numeric representation, so maybe frequencies of words \n",
    "#for any document level task such as spam detection or sentiment analysis, we may need a 'per document' representation\n",
    "#such as bag of words or doc2vec\n",
    "#if you want to work with individual words and phrases such as text generation or machine translation, you need\n",
    "#word level representation such as word2vec or glove\n",
    "#modelling means designing a model, usually a statistical or machine learning model fitting its parameter to training data\n",
    "#using an optimization procedure and then using it to make predictions about unseen data\n",
    "#numbers allow to utilize any machine learning models available\n",
    "#this includes vector machines, decision trees, neural networks or any custom models\n"
   ]
  },
  {
   "cell_type": "code",
   "execution_count": 11,
   "metadata": {},
   "outputs": [
    {
     "name": "stdout",
     "output_type": "stream",
     "text": [
      "Hieroglyphic writing dates from c. 3000 BC, and is composed of hundreds of symbols. A hieroglyph can represent a word, a sound, or a silent determinative; and the same symbol can serve different purposes in different contexts. Hieroglyphs were a formal script, used on stone monuments and in tombs, that could be as detailed as individual works of art.\n",
      "\n",
      "\n"
     ]
    }
   ],
   "source": [
    "import os\n",
    "#read in plain text\n",
    "with open (\"hieroglyph.txt\", \"r\") as f:\n",
    "    text = f.read()\n",
    "    print (text)"
   ]
  },
  {
   "cell_type": "code",
   "execution_count": 12,
   "metadata": {},
   "outputs": [],
   "source": [
    "import pandas as pd"
   ]
  },
  {
   "cell_type": "code",
   "execution_count": 19,
   "metadata": {},
   "outputs": [
    {
     "data": {
      "text/html": [
       "<div>\n",
       "<style scoped>\n",
       "    .dataframe tbody tr th:only-of-type {\n",
       "        vertical-align: middle;\n",
       "    }\n",
       "\n",
       "    .dataframe tbody tr th {\n",
       "        vertical-align: top;\n",
       "    }\n",
       "\n",
       "    .dataframe thead th {\n",
       "        text-align: right;\n",
       "    }\n",
       "</style>\n",
       "<table border=\"1\" class=\"dataframe\">\n",
       "  <thead>\n",
       "    <tr style=\"text-align: right;\">\n",
       "      <th></th>\n",
       "      <th>livemint</th>\n",
       "      <th>Feds</th>\n",
       "    </tr>\n",
       "  </thead>\n",
       "  <tbody>\n",
       "    <tr>\n",
       "      <th>0</th>\n",
       "      <td>Ifa magazine</td>\n",
       "      <td>fed2</td>\n",
       "    </tr>\n",
       "    <tr>\n",
       "      <th>1</th>\n",
       "      <td>ifa magazine</td>\n",
       "      <td>feds pick</td>\n",
       "    </tr>\n",
       "    <tr>\n",
       "      <th>2</th>\n",
       "      <td>moneynews</td>\n",
       "      <td>fedspick</td>\n",
       "    </tr>\n",
       "    <tr>\n",
       "      <th>3</th>\n",
       "      <td>Nasdaq</td>\n",
       "      <td>plosser</td>\n",
       "    </tr>\n",
       "  </tbody>\n",
       "</table>\n",
       "</div>"
      ],
      "text/plain": [
       "       livemint       Feds\n",
       "0  Ifa magazine       fed2\n",
       "1  ifa magazine  feds pick\n",
       "2     moneynews   fedspick\n",
       "3        Nasdaq    plosser"
      ]
     },
     "execution_count": 19,
     "metadata": {},
     "output_type": "execute_result"
    }
   ],
   "source": [
    "df = pd.read_csv(\"boo.csv\")\n",
    "df.head()[[\"livemint\", \"Feds\"]]"
   ]
  },
  {
   "cell_type": "code",
   "execution_count": 22,
   "metadata": {},
   "outputs": [
    {
     "data": {
      "text/html": [
       "<div>\n",
       "<style scoped>\n",
       "    .dataframe tbody tr th:only-of-type {\n",
       "        vertical-align: middle;\n",
       "    }\n",
       "\n",
       "    .dataframe tbody tr th {\n",
       "        vertical-align: top;\n",
       "    }\n",
       "\n",
       "    .dataframe thead th {\n",
       "        text-align: right;\n",
       "    }\n",
       "</style>\n",
       "<table border=\"1\" class=\"dataframe\">\n",
       "  <thead>\n",
       "    <tr style=\"text-align: right;\">\n",
       "      <th></th>\n",
       "      <th>livemint</th>\n",
       "      <th>Feds</th>\n",
       "    </tr>\n",
       "  </thead>\n",
       "  <tbody>\n",
       "    <tr>\n",
       "      <th>0</th>\n",
       "      <td>ifa magazine</td>\n",
       "      <td>fed2</td>\n",
       "    </tr>\n",
       "    <tr>\n",
       "      <th>1</th>\n",
       "      <td>ifa magazine</td>\n",
       "      <td>feds pick</td>\n",
       "    </tr>\n",
       "    <tr>\n",
       "      <th>2</th>\n",
       "      <td>moneynews</td>\n",
       "      <td>fedspick</td>\n",
       "    </tr>\n",
       "    <tr>\n",
       "      <th>3</th>\n",
       "      <td>nasdaq</td>\n",
       "      <td>plosser</td>\n",
       "    </tr>\n",
       "  </tbody>\n",
       "</table>\n",
       "</div>"
      ],
      "text/plain": [
       "       livemint       Feds\n",
       "0  ifa magazine       fed2\n",
       "1  ifa magazine  feds pick\n",
       "2     moneynews   fedspick\n",
       "3        nasdaq    plosser"
      ]
     },
     "execution_count": 22,
     "metadata": {},
     "output_type": "execute_result"
    }
   ],
   "source": [
    "#Convert to lowerscase\n",
    "#note how Nasdaq from above became nasdaq below in lowercase\n",
    "\n",
    "df[\"livemint\"] = df[\"livemint\"].str.lower()\n",
    "df.head()[[\"livemint\", \"Feds\"]]"
   ]
  },
  {
   "cell_type": "code",
   "execution_count": 23,
   "metadata": {},
   "outputs": [],
   "source": [
    "import requests"
   ]
  },
  {
   "cell_type": "code",
   "execution_count": 24,
   "metadata": {},
   "outputs": [],
   "source": [
    "import json"
   ]
  },
  {
   "cell_type": "code",
   "execution_count": 25,
   "metadata": {},
   "outputs": [
    {
     "name": "stdout",
     "output_type": "stream",
     "text": [
      "{\n",
      "    \"success\": {\n",
      "        \"total\": 1\n",
      "    },\n",
      "    \"contents\": {\n",
      "        \"quotes\": [\n",
      "            {\n",
      "                \"quote\": \"Persistence is very important. You should not give up unless you are forced to give up.\",\n",
      "                \"length\": \"87\",\n",
      "                \"author\": \"Elon Musk\",\n",
      "                \"tags\": [\n",
      "                    \"inspire\",\n",
      "                    \"persistence\"\n",
      "                ],\n",
      "                \"category\": \"inspire\",\n",
      "                \"date\": \"2018-11-15\",\n",
      "                \"permalink\": \"https://theysaidso.com/quote/IzY6YlJCdhJc3IAlWvyHBAeF/elon-musk-persistence-is-very-important-you-should-not-give-up-unless-you-are-fo\",\n",
      "                \"title\": \"Inspiring Quote of the day\",\n",
      "                \"background\": \"https://theysaidso.com/img/bgs/man_on_the_mountain.jpg\",\n",
      "                \"id\": \"IzY6YlJCdhJc3IAlWvyHBAeF\"\n",
      "            }\n",
      "        ],\n",
      "        \"copyright\": \"2017-19 theysaidso.com\"\n",
      "    }\n",
      "}\n"
     ]
    }
   ],
   "source": [
    "#fetch data from a rest api\n",
    "r=requests.get(\n",
    "    \"https://quotes.rest/qod.json\")\n",
    "res=r.json()\n",
    "print (json.dumps(res, indent=4))"
   ]
  },
  {
   "cell_type": "code",
   "execution_count": 26,
   "metadata": {},
   "outputs": [
    {
     "name": "stdout",
     "output_type": "stream",
     "text": [
      "Persistence is very important. You should not give up unless you are forced to give up. \n",
      "-- Elon Musk\n"
     ]
    }
   ],
   "source": [
    "#extract relevant objects and fields\n",
    "q=res[\"contents\"][\"quotes\"][0]\n",
    "print(q[\"quote\"], \"\\n--\", q[\"author\"])"
   ]
  },
  {
   "cell_type": "code",
   "execution_count": null,
   "metadata": {},
   "outputs": [],
   "source": [
    "#cleaning\n",
    "import requests"
   ]
  },
  {
   "cell_type": "code",
   "execution_count": 33,
   "metadata": {},
   "outputs": [
    {
     "name": "stdout",
     "output_type": "stream",
     "text": [
      "<html op=\"news\"><head><meta name=\"referrer\" content=\"origin\"><meta name=\"viewport\" content=\"width=device-width, initial-scale=1.0\"><link rel=\"stylesheet\" type=\"text/css\" href=\"news.css?tfZ7xJawI2K6fRTAGyd8\">\n",
      "            <link rel=\"shortcut icon\" href=\"favicon.ico\">\n",
      "          <link rel=\"alternate\" type=\"application/rss+xml\" title=\"RSS\" href=\"rss\">\n",
      "        <title>Hacker News</title></head><body><center><table id=\"hnmain\" border=\"0\" cellpadding=\"0\" cellspacing=\"0\" width=\"85%\" bgcolor=\"#f6f6ef\">\n",
      "        <tr><td bgcolor=\"#ff6600\"><table border=\"0\" cellpadding=\"0\" cellspacing=\"0\" width=\"100%\" style=\"padding:2px\"><tr><td style=\"width:18px;padding-right:4px\"><a href=\"https://news.ycombinator.com\"><img src=\"y18.gif\" width=\"18\" height=\"18\" style=\"border:1px white solid;\"></a></td>\n",
      "                  <td style=\"line-height:12pt; height:10px;\"><span class=\"pagetop\"><b class=\"hnname\"><a href=\"news\">Hacker News</a></b>\n",
      "              <a href=\"newest\">new</a> | <a href=\"newcomments\">comments</a> | <a href=\"show\">show</a> | <a href=\"ask\">ask</a> | <a href=\"jobs\">jobs</a> | <a href=\"submit\">submit</a>            </span></td><td style=\"text-align:right;padding-right:4px;\"><span class=\"pagetop\">\n",
      "                              <a href=\"login?goto=news\">login</a>\n",
      "                          </span></td>\n",
      "              </tr></table></td></tr>\n",
      "<tr style=\"height:10px\"></tr><tr><td><table border=\"0\" cellpadding=\"0\" cellspacing=\"0\" class=\"itemlist\">\n",
      "              <tr class='athing' id='18460902'>\n",
      "      <td align=\"right\" valign=\"top\" class=\"title\"><span class=\"rank\">1.</span></td>      <td valign=\"top\" class=\"votelinks\"><center><a id='up_18460902' href='vote?id=18460902&amp;how=up&amp;goto=news'><div class='votearrow' title='upvote'></div></a></center></td><td class=\"title\"><a href=\"https://techcrunch.com/2018/11/15/airtable-maker-of-a-coding-platform-for-non-techies-raises-100m-at-a-1-1b-valuation/\" class=\"storylink\">Airtable raises $100M at a $1.1B valuation</a><span class=\"sitebit comhead\"> (<a href=\"from?site=techcrunch.com\"><span class=\"sitestr\">techcrunch.com</span></a>)</span></td></tr><tr><td colspan=\"2\"></td><td class=\"subtext\">\n",
      "        <span class=\"score\" id=\"score_18460902\">63 points</span> by <a href=\"user?id=kbyatnal\" class=\"hnuser\">kbyatnal</a> <span class=\"age\"><a href=\"item?id=18460902\">1 hour ago</a></span> <span id=\"unv_18460902\"></span> | <a href=\"hide?id=18460902&amp;goto=news\">hide</a> | <a href=\"item?id=18460902\">7&nbsp;comments</a>              </td></tr>\n",
      "      <tr class=\"spacer\" style=\"height:5px\"></tr>\n",
      "                <tr class='athing' id='18460087'>\n",
      "      <td align=\"right\" valign=\"top\" class=\"title\"><span class=\"rank\">2.</span></td>      <td valign=\"top\" class=\"votelinks\"><center><a id='up_18460087' href='vote?id=18460087&amp;how=up&amp;goto=news'><div class='votearrow' title='upvote'></div></a></center></td><td class=\"title\"><a href=\"https://www.reuters.com/article/us-germany-intelligence/german-government-has-set-aside-around-3-billion-euros-for-artificial-intelligence-report-idUSKCN1NI1AP\" class=\"storylink\">Germany plans 3B in AI investments</a><span class=\"sitebit comhead\"> (<a href=\"from?site=reuters.com\"><span class=\"sitestr\">reuters.com</span></a>)</span></td></tr><tr><td colspan=\"2\"></td><td class=\"subtext\">\n",
      "        <span class=\"score\" id=\"score_18460087\">79 points</span> by <a href=\"user?id=jonbaer\" class=\"hnuser\">jonbaer</a> <span class=\"age\"><a href=\"item?id=18460087\">2 hours ago</a></span> <span id=\"unv_18460087\"></span> | <a href=\"hide?id=18460087&amp;goto=news\">hide</a> | <a href=\"item?id=18460087\">38&nbsp;comments</a>              </td></tr>\n",
      "      <tr class=\"spacer\" style=\"height:5px\"></tr>\n",
      "                <tr class='athing' id='18459389'>\n",
      "      <td align=\"right\" valign=\"top\" class=\"title\"><span class=\"rank\">3.</span></td>      <td valign=\"top\" class=\"votelinks\"><center><a id='up_18459389' href='vote?id=18459389&amp;how=up&amp;goto=news'><div class='votearrow' title='upvote'></div></a></center></td><td class=\"title\"><a href=\"https://hbr.org/2018/11/5-ways-smart-people-sabotage-their-success\" class=\"storylink\">How  Smart People Sabotage Their Success</a><span class=\"sitebit comhead\"> (<a href=\"from?site=hbr.org\"><span class=\"sitestr\">hbr.org</span></a>)</span></td></tr><tr><td colspan=\"2\"></td><td class=\"subtext\">\n",
      "        <span class=\"score\" id=\"score_18459389\">181 points</span> by <a href=\"user?id=apress\" class=\"hnuser\">apress</a> <span class=\"age\"><a href=\"item?id=18459389\">3 hours ago</a></span> <span id=\"unv_18459389\"></span> | <a href=\"hide?id=18459389&amp;goto=news\">hide</a> | <a href=\"item?id=18459389\">77&nbsp;comments</a>              </td></tr>\n",
      "      <tr class=\"spacer\" style=\"height:5px\"></tr>\n",
      "                <tr class='athing' id='18458908'>\n",
      "      <td align=\"right\" valign=\"top\" class=\"title\"><span class=\"rank\">4.</span></td>      <td valign=\"top\" class=\"votelinks\"><center><a id='up_18458908' href='vote?id=18458908&amp;how=up&amp;goto=news'><div class='votearrow' title='upvote'></div></a></center></td><td class=\"title\"><a href=\"https://drewdevault.com/2018/11/15/sr.ht-general-availability.html\" class=\"storylink\">sr.ht, the hacker's forge, now open for public alpha</a><span class=\"sitebit comhead\"> (<a href=\"from?site=drewdevault.com\"><span class=\"sitestr\">drewdevault.com</span></a>)</span></td></tr><tr><td colspan=\"2\"></td><td class=\"subtext\">\n",
      "        <span class=\"score\" id=\"score_18458908\">334 points</span> by <a href=\"user?id=Sir_Cmpwn\" class=\"hnuser\">Sir_Cmpwn</a> <span class=\"age\"><a href=\"item?id=18458908\">4 hours ago</a></span> <span id=\"unv_18458908\"></span> | <a href=\"hide?id=18458908&amp;goto=news\">hide</a> | <a href=\"item?id=18458908\">66&nbsp;comments</a>              </td></tr>\n",
      "      <tr class=\"spacer\" style=\"height:5px\"></tr>\n",
      "                <tr class='athing' id='18460726'>\n",
      "      <td align=\"right\" valign=\"top\" class=\"title\"><span class=\"rank\">5.</span></td>      <td valign=\"top\" class=\"votelinks\"><center><a id='up_18460726' href='vote?id=18460726&amp;how=up&amp;goto=news'><div class='votearrow' title='upvote'></div></a></center></td><td class=\"title\"><a href=\"https://krisp.ai/index.html\" class=\"storylink\">Krisp.ai – Mute background noise during your calls</a><span class=\"sitebit comhead\"> (<a href=\"from?site=krisp.ai\"><span class=\"sitestr\">krisp.ai</span></a>)</span></td></tr><tr><td colspan=\"2\"></td><td class=\"subtext\">\n",
      "        <span class=\"score\" id=\"score_18460726\">32 points</span> by <a href=\"user?id=nyxtom\" class=\"hnuser\">nyxtom</a> <span class=\"age\"><a href=\"item?id=18460726\">1 hour ago</a></span> <span id=\"unv_18460726\"></span> | <a href=\"hide?id=18460726&amp;goto=news\">hide</a> | <a href=\"item?id=18460726\">9&nbsp;comments</a>              </td></tr>\n",
      "      <tr class=\"spacer\" style=\"height:5px\"></tr>\n",
      "                <tr class='athing' id='18449434'>\n",
      "      <td align=\"right\" valign=\"top\" class=\"title\"><span class=\"rank\">6.</span></td>      <td valign=\"top\" class=\"votelinks\"><center><a id='up_18449434' href='vote?id=18449434&amp;how=up&amp;goto=news'><div class='votearrow' title='upvote'></div></a></center></td><td class=\"title\"><a href=\"https://en.wikipedia.org/wiki/Evolved_antenna\" class=\"storylink\">Evolved antenna</a><span class=\"sitebit comhead\"> (<a href=\"from?site=wikipedia.org\"><span class=\"sitestr\">wikipedia.org</span></a>)</span></td></tr><tr><td colspan=\"2\"></td><td class=\"subtext\">\n",
      "        <span class=\"score\" id=\"score_18449434\">23 points</span> by <a href=\"user?id=zilic\" class=\"hnuser\">zilic</a> <span class=\"age\"><a href=\"item?id=18449434\">1 hour ago</a></span> <span id=\"unv_18449434\"></span> | <a href=\"hide?id=18449434&amp;goto=news\">hide</a> | <a href=\"item?id=18449434\">5&nbsp;comments</a>              </td></tr>\n",
      "      <tr class=\"spacer\" style=\"height:5px\"></tr>\n",
      "                <tr class='athing' id='18458212'>\n",
      "      <td align=\"right\" valign=\"top\" class=\"title\"><span class=\"rank\">7.</span></td>      <td valign=\"top\" class=\"votelinks\"><center><a id='up_18458212' href='vote?id=18458212&amp;how=up&amp;goto=news'><div class='votearrow' title='upvote'></div></a></center></td><td class=\"title\"><a href=\"https://lwn.net/Articles/769917/\" class=\"storylink\">SpamAssassin is back</a><span class=\"sitebit comhead\"> (<a href=\"from?site=lwn.net\"><span class=\"sitestr\">lwn.net</span></a>)</span></td></tr><tr><td colspan=\"2\"></td><td class=\"subtext\">\n",
      "        <span class=\"score\" id=\"score_18458212\">221 points</span> by <a href=\"user?id=l2dy\" class=\"hnuser\">l2dy</a> <span class=\"age\"><a href=\"item?id=18458212\">7 hours ago</a></span> <span id=\"unv_18458212\"></span> | <a href=\"hide?id=18458212&amp;goto=news\">hide</a> | <a href=\"item?id=18458212\">44&nbsp;comments</a>              </td></tr>\n",
      "      <tr class=\"spacer\" style=\"height:5px\"></tr>\n",
      "                <tr class='athing' id='18449408'>\n",
      "      <td align=\"right\" valign=\"top\" class=\"title\"><span class=\"rank\">8.</span></td>      <td valign=\"top\" class=\"votelinks\"><center><a id='up_18449408' href='vote?id=18449408&amp;how=up&amp;goto=news'><div class='votearrow' title='upvote'></div></a></center></td><td class=\"title\"><a href=\"https://forums.swift.org/t/introducing-sourcekit-lsp/17964\" class=\"storylink\">Introducing SourceKit-LSP</a><span class=\"sitebit comhead\"> (<a href=\"from?site=swift.org\"><span class=\"sitestr\">swift.org</span></a>)</span></td></tr><tr><td colspan=\"2\"></td><td class=\"subtext\">\n",
      "        <span class=\"score\" id=\"score_18449408\">13 points</span> by <a href=\"user?id=mbroncano\" class=\"hnuser\">mbroncano</a> <span class=\"age\"><a href=\"item?id=18449408\">1 hour ago</a></span> <span id=\"unv_18449408\"></span> | <a href=\"hide?id=18449408&amp;goto=news\">hide</a> | <a href=\"item?id=18449408\">discuss</a>              </td></tr>\n",
      "      <tr class=\"spacer\" style=\"height:5px\"></tr>\n",
      "                <tr class='athing' id='18457325'>\n",
      "      <td align=\"right\" valign=\"top\" class=\"title\"><span class=\"rank\">9.</span></td>      <td valign=\"top\" class=\"votelinks\"><center><a id='up_18457325' href='vote?id=18457325&amp;how=up&amp;goto=news'><div class='votearrow' title='upvote'></div></a></center></td><td class=\"title\"><a href=\"https://docs.slatejs.org\" class=\"storylink\">Slate JS – A customizable framework for building rich text editors</a><span class=\"sitebit comhead\"> (<a href=\"from?site=slatejs.org\"><span class=\"sitestr\">slatejs.org</span></a>)</span></td></tr><tr><td colspan=\"2\"></td><td class=\"subtext\">\n",
      "        <span class=\"score\" id=\"score_18457325\">336 points</span> by <a href=\"user?id=migueloller\" class=\"hnuser\">migueloller</a> <span class=\"age\"><a href=\"item?id=18457325\">11 hours ago</a></span> <span id=\"unv_18457325\"></span> | <a href=\"hide?id=18457325&amp;goto=news\">hide</a> | <a href=\"item?id=18457325\">95&nbsp;comments</a>              </td></tr>\n",
      "      <tr class=\"spacer\" style=\"height:5px\"></tr>\n",
      "                <tr class='athing' id='18457672'>\n",
      "      <td align=\"right\" valign=\"top\" class=\"title\"><span class=\"rank\">10.</span></td>      <td valign=\"top\" class=\"votelinks\"><center><a id='up_18457672' href='vote?id=18457672&amp;how=up&amp;goto=news'><div class='votearrow' title='upvote'></div></a></center></td><td class=\"title\"><a href=\"https://www.troyhunt.com/beyond-passwords-2fa-u2f-and-google-advanced-protection/\" class=\"storylink\">Beyond Passwords: 2FA, U2F and Google Advanced Protection</a><span class=\"sitebit comhead\"> (<a href=\"from?site=troyhunt.com\"><span class=\"sitestr\">troyhunt.com</span></a>)</span></td></tr><tr><td colspan=\"2\"></td><td class=\"subtext\">\n",
      "        <span class=\"score\" id=\"score_18457672\">203 points</span> by <a href=\"user?id=nikbackm\" class=\"hnuser\">nikbackm</a> <span class=\"age\"><a href=\"item?id=18457672\">9 hours ago</a></span> <span id=\"unv_18457672\"></span> | <a href=\"hide?id=18457672&amp;goto=news\">hide</a> | <a href=\"item?id=18457672\">108&nbsp;comments</a>              </td></tr>\n",
      "      <tr class=\"spacer\" style=\"height:5px\"></tr>\n",
      "                <tr class='athing' id='18459016'>\n",
      "      <td align=\"right\" valign=\"top\" class=\"title\"><span class=\"rank\">11.</span></td>      <td valign=\"top\" class=\"votelinks\"><center><a id='up_18459016' href='vote?id=18459016&amp;how=up&amp;goto=news'><div class='votearrow' title='upvote'></div></a></center></td><td class=\"title\"><a href=\"https://www.bbc.com/news/technology-46222026\" class=\"storylink\">Japan's cyber-security minister has 'never used a computer'</a><span class=\"sitebit comhead\"> (<a href=\"from?site=bbc.com\"><span class=\"sitestr\">bbc.com</span></a>)</span></td></tr><tr><td colspan=\"2\"></td><td class=\"subtext\">\n",
      "        <span class=\"score\" id=\"score_18459016\">337 points</span> by <a href=\"user?id=GeneticGenesis\" class=\"hnuser\">GeneticGenesis</a> <span class=\"age\"><a href=\"item?id=18459016\">4 hours ago</a></span> <span id=\"unv_18459016\"></span> | <a href=\"hide?id=18459016&amp;goto=news\">hide</a> | <a href=\"item?id=18459016\">245&nbsp;comments</a>              </td></tr>\n",
      "      <tr class=\"spacer\" style=\"height:5px\"></tr>\n",
      "                <tr class='athing' id='18460601'>\n",
      "      <td align=\"right\" valign=\"top\" class=\"title\"><span class=\"rank\">12.</span></td>      <td valign=\"top\" class=\"votelinks\"><center><a id='up_18460601' href='vote?id=18460601&amp;how=up&amp;goto=news'><div class='votearrow' title='upvote'></div></a></center></td><td class=\"title\"><a href=\"https://www.quorumcontrol.com/blog/2018/11/13/why-we-rolled-out-our-own-consensus-algorithm\" class=\"storylink\">Why we rolled our own consensus algorithm</a><span class=\"sitebit comhead\"> (<a href=\"from?site=quorumcontrol.com\"><span class=\"sitestr\">quorumcontrol.com</span></a>)</span></td></tr><tr><td colspan=\"2\"></td><td class=\"subtext\">\n",
      "        <span class=\"score\" id=\"score_18460601\">25 points</span> by <a href=\"user?id=QCSmello\" class=\"hnuser\">QCSmello</a> <span class=\"age\"><a href=\"item?id=18460601\">1 hour ago</a></span> <span id=\"unv_18460601\"></span> | <a href=\"hide?id=18460601&amp;goto=news\">hide</a> | <a href=\"item?id=18460601\">6&nbsp;comments</a>              </td></tr>\n",
      "      <tr class=\"spacer\" style=\"height:5px\"></tr>\n",
      "                <tr class='athing' id='18458819'>\n",
      "      <td align=\"right\" valign=\"top\" class=\"title\"><span class=\"rank\">13.</span></td>      <td valign=\"top\" class=\"votelinks\"><center><a id='up_18458819' href='vote?id=18458819&amp;how=up&amp;goto=news'><div class='votearrow' title='upvote'></div></a></center></td><td class=\"title\"><a href=\"https://www.bloomberg.com/news/articles/2018-11-14/pg-e-plunges-in-early-trading-amid-wildfire-destruction\" class=\"storylink\">PG&E stock plunged 32% after it disclosed a possible link to California’s fire</a><span class=\"sitebit comhead\"> (<a href=\"from?site=bloomberg.com\"><span class=\"sitestr\">bloomberg.com</span></a>)</span></td></tr><tr><td colspan=\"2\"></td><td class=\"subtext\">\n",
      "        <span class=\"score\" id=\"score_18458819\">193 points</span> by <a href=\"user?id=breitling\" class=\"hnuser\">breitling</a> <span class=\"age\"><a href=\"item?id=18458819\">5 hours ago</a></span> <span id=\"unv_18458819\"></span> | <a href=\"hide?id=18458819&amp;goto=news\">hide</a> | <a href=\"item?id=18458819\">189&nbsp;comments</a>              </td></tr>\n",
      "      <tr class=\"spacer\" style=\"height:5px\"></tr>\n",
      "                <tr class='athing' id='18461258'>\n",
      "      <td align=\"right\" valign=\"top\" class=\"title\"><span class=\"rank\">14.</span></td>      <td valign=\"top\" class=\"votelinks\"><center><a id='up_18461258' href='vote?id=18461258&amp;how=up&amp;goto=news'><div class='votearrow' title='upvote'></div></a></center></td><td class=\"title\"><a href=\"https://quicksy.im\" class=\"storylink\" rel=\"nofollow\">Show HN: Quicksy – Jabber with phone number verification and contact discovery</a><span class=\"sitebit comhead\"> (<a href=\"from?site=quicksy.im\"><span class=\"sitestr\">quicksy.im</span></a>)</span></td></tr><tr><td colspan=\"2\"></td><td class=\"subtext\">\n",
      "        <span class=\"score\" id=\"score_18461258\">10 points</span> by <a href=\"user?id=inputmice\" class=\"hnuser\">inputmice</a> <span class=\"age\"><a href=\"item?id=18461258\">33 minutes ago</a></span> <span id=\"unv_18461258\"></span> | <a href=\"hide?id=18461258&amp;goto=news\">hide</a> | <a href=\"item?id=18461258\">1&nbsp;comment</a>              </td></tr>\n",
      "      <tr class=\"spacer\" style=\"height:5px\"></tr>\n",
      "                <tr class='athing' id='18460355'>\n",
      "      <td align=\"right\" valign=\"top\" class=\"title\"><span class=\"rank\">15.</span></td>      <td valign=\"top\" class=\"votelinks\"><center><a id='up_18460355' href='vote?id=18460355&amp;how=up&amp;goto=news'><div class='votearrow' title='upvote'></div></a></center></td><td class=\"title\"><a href=\"https://www.zdnet.com/article/researchers-discover-seven-new-meltdown-and-spectre-attacks/\" class=\"storylink\">Researchers discover seven new Meltdown and Spectre attacks</a><span class=\"sitebit comhead\"> (<a href=\"from?site=zdnet.com\"><span class=\"sitestr\">zdnet.com</span></a>)</span></td></tr><tr><td colspan=\"2\"></td><td class=\"subtext\">\n",
      "        <span class=\"score\" id=\"score_18460355\">51 points</span> by <a href=\"user?id=Garbage\" class=\"hnuser\">Garbage</a> <span class=\"age\"><a href=\"item?id=18460355\">1 hour ago</a></span> <span id=\"unv_18460355\"></span> | <a href=\"hide?id=18460355&amp;goto=news\">hide</a> | <a href=\"item?id=18460355\">6&nbsp;comments</a>              </td></tr>\n",
      "      <tr class=\"spacer\" style=\"height:5px\"></tr>\n",
      "                <tr class='athing' id='18459597'>\n",
      "      <td align=\"right\" valign=\"top\" class=\"title\"><span class=\"rank\">16.</span></td>      <td valign=\"top\" class=\"votelinks\"><center><a id='up_18459597' href='vote?id=18459597&amp;how=up&amp;goto=news'><div class='votearrow' title='upvote'></div></a></center></td><td class=\"title\"><a href=\"https://www.redhat.com/en/blog/powering-its-future-while-preserving-present-introducing-red-hat-enterprise-linux-8-beta\" class=\"storylink\">Red Hat Enterprise Linux 8 Beta</a><span class=\"sitebit comhead\"> (<a href=\"from?site=redhat.com\"><span class=\"sitestr\">redhat.com</span></a>)</span></td></tr><tr><td colspan=\"2\"></td><td class=\"subtext\">\n",
      "        <span class=\"score\" id=\"score_18459597\">86 points</span> by <a href=\"user?id=ciupicri\" class=\"hnuser\">ciupicri</a> <span class=\"age\"><a href=\"item?id=18459597\">3 hours ago</a></span> <span id=\"unv_18459597\"></span> | <a href=\"hide?id=18459597&amp;goto=news\">hide</a> | <a href=\"item?id=18459597\">67&nbsp;comments</a>              </td></tr>\n",
      "      <tr class=\"spacer\" style=\"height:5px\"></tr>\n",
      "                <tr class='athing' id='18447923'>\n",
      "      <td align=\"right\" valign=\"top\" class=\"title\"><span class=\"rank\">17.</span></td>      <td valign=\"top\" class=\"votelinks\"><center><a id='up_18447923' href='vote?id=18447923&amp;how=up&amp;goto=news'><div class='votearrow' title='upvote'></div></a></center></td><td class=\"title\"><a href=\"https://www.laphamsquarterly.org/roundtable/crossing-sahara-fourteenth-century\" class=\"storylink\">Crossing the Sahara in the Fourteenth Century</a><span class=\"sitebit comhead\"> (<a href=\"from?site=laphamsquarterly.org\"><span class=\"sitestr\">laphamsquarterly.org</span></a>)</span></td></tr><tr><td colspan=\"2\"></td><td class=\"subtext\">\n",
      "        <span class=\"score\" id=\"score_18447923\">55 points</span> by <a href=\"user?id=Thevet\" class=\"hnuser\">Thevet</a> <span class=\"age\"><a href=\"item?id=18447923\">7 hours ago</a></span> <span id=\"unv_18447923\"></span> | <a href=\"hide?id=18447923&amp;goto=news\">hide</a> | <a href=\"item?id=18447923\">20&nbsp;comments</a>              </td></tr>\n",
      "      <tr class=\"spacer\" style=\"height:5px\"></tr>\n",
      "                <tr class='athing' id='18460037'>\n",
      "      <td align=\"right\" valign=\"top\" class=\"title\"><span class=\"rank\">18.</span></td>      <td valign=\"top\" class=\"votelinks\"><center><a id='up_18460037' href='vote?id=18460037&amp;how=up&amp;goto=news'><div class='votearrow' title='upvote'></div></a></center></td><td class=\"title\"><a href=\"https://www.ably.io/concepts/long-polling\" class=\"storylink\">Long Polling – Concepts and Considerations</a><span class=\"sitebit comhead\"> (<a href=\"from?site=ably.io\"><span class=\"sitestr\">ably.io</span></a>)</span></td></tr><tr><td colspan=\"2\"></td><td class=\"subtext\">\n",
      "        <span class=\"score\" id=\"score_18460037\">20 points</span> by <a href=\"user?id=srushtika\" class=\"hnuser\">srushtika</a> <span class=\"age\"><a href=\"item?id=18460037\">2 hours ago</a></span> <span id=\"unv_18460037\"></span> | <a href=\"hide?id=18460037&amp;goto=news\">hide</a> | <a href=\"item?id=18460037\">2&nbsp;comments</a>              </td></tr>\n",
      "      <tr class=\"spacer\" style=\"height:5px\"></tr>\n",
      "                <tr class='athing' id='18460063'>\n",
      "      <td align=\"right\" valign=\"top\" class=\"title\"><span class=\"rank\">19.</span></td>      <td valign=\"top\" class=\"votelinks\"><center><a id='up_18460063' href='vote?id=18460063&amp;how=up&amp;goto=news'><div class='votearrow' title='upvote'></div></a></center></td><td class=\"title\"><a href=\"https://innovationforallcast.com/2018/11/14/the-case-for-regulating-tech-companies\" class=\"storylink\">Google and Facebook are monopolies. Does it matter? [audio]</a><span class=\"sitebit comhead\"> (<a href=\"from?site=innovationforallcast.com\"><span class=\"sitestr\">innovationforallcast.com</span></a>)</span></td></tr><tr><td colspan=\"2\"></td><td class=\"subtext\">\n",
      "        <span class=\"score\" id=\"score_18460063\">79 points</span> by <a href=\"user?id=sheana_ahlqvist\" class=\"hnuser\">sheana_ahlqvist</a> <span class=\"age\"><a href=\"item?id=18460063\">2 hours ago</a></span> <span id=\"unv_18460063\"></span> | <a href=\"hide?id=18460063&amp;goto=news\">hide</a> | <a href=\"item?id=18460063\">70&nbsp;comments</a>              </td></tr>\n",
      "      <tr class=\"spacer\" style=\"height:5px\"></tr>\n",
      "                <tr class='athing' id='18460406'>\n",
      "      <td align=\"right\" valign=\"top\" class=\"title\"><span class=\"rank\">20.</span></td>      <td valign=\"top\" class=\"votelinks\"><center><a id='up_18460406' href='vote?id=18460406&amp;how=up&amp;goto=news'><div class='votearrow' title='upvote'></div></a></center></td><td class=\"title\"><a href=\"https://www.theguardian.com/technology/2018/nov/14/facebook-george-soros-pr-firm-discredit-critics-crisis\" class=\"storylink\">Facebook reportedly discredited critics by linking them to George Soros</a><span class=\"sitebit comhead\"> (<a href=\"from?site=theguardian.com\"><span class=\"sitestr\">theguardian.com</span></a>)</span></td></tr><tr><td colspan=\"2\"></td><td class=\"subtext\">\n",
      "        <span class=\"score\" id=\"score_18460406\">182 points</span> by <a href=\"user?id=nsedlet\" class=\"hnuser\">nsedlet</a> <span class=\"age\"><a href=\"item?id=18460406\">1 hour ago</a></span> <span id=\"unv_18460406\"></span> | <a href=\"hide?id=18460406&amp;goto=news\">hide</a> | <a href=\"item?id=18460406\">138&nbsp;comments</a>              </td></tr>\n",
      "      <tr class=\"spacer\" style=\"height:5px\"></tr>\n",
      "                <tr class='athing' id='18459686'>\n",
      "      <td align=\"right\" valign=\"top\" class=\"title\"><span class=\"rank\">21.</span></td>      <td valign=\"top\" class=\"votelinks\"><center><a id='up_18459686' href='vote?id=18459686&amp;how=up&amp;goto=news'><div class='votearrow' title='upvote'></div></a></center></td><td class=\"title\"><a href=\"https://www.engadget.com/2018/11/15/a-cheaper-smaller-raspberry-pi-3-is-now-available/\" class=\"storylink\">A cheaper, smaller Raspberry Pi 3 is now available</a><span class=\"sitebit comhead\"> (<a href=\"from?site=engadget.com\"><span class=\"sitestr\">engadget.com</span></a>)</span></td></tr><tr><td colspan=\"2\"></td><td class=\"subtext\">\n",
      "        <span class=\"score\" id=\"score_18459686\">87 points</span> by <a href=\"user?id=gmiller123456\" class=\"hnuser\">gmiller123456</a> <span class=\"age\"><a href=\"item?id=18459686\">3 hours ago</a></span> <span id=\"unv_18459686\"></span> | <a href=\"hide?id=18459686&amp;goto=news\">hide</a> | <a href=\"item?id=18459686\">45&nbsp;comments</a>              </td></tr>\n",
      "      <tr class=\"spacer\" style=\"height:5px\"></tr>\n",
      "                <tr class='athing' id='18442593'>\n",
      "      <td align=\"right\" valign=\"top\" class=\"title\"><span class=\"rank\">22.</span></td>      <td valign=\"top\" class=\"votelinks\"><center><a id='up_18442593' href='vote?id=18442593&amp;how=up&amp;goto=news'><div class='votearrow' title='upvote'></div></a></center></td><td class=\"title\"><a href=\"http://www.nytimes.com/2007/09/05/dining/05curi.html\" class=\"storylink\">The Essence of Nearly Anything, Drop by Limpid Drop (2007)</a><span class=\"sitebit comhead\"> (<a href=\"from?site=nytimes.com\"><span class=\"sitestr\">nytimes.com</span></a>)</span></td></tr><tr><td colspan=\"2\"></td><td class=\"subtext\">\n",
      "        <span class=\"score\" id=\"score_18442593\">8 points</span> by <a href=\"user?id=Tomte\" class=\"hnuser\">Tomte</a> <span class=\"age\"><a href=\"item?id=18442593\">3 hours ago</a></span> <span id=\"unv_18442593\"></span> | <a href=\"hide?id=18442593&amp;goto=news\">hide</a> | <a href=\"item?id=18442593\">discuss</a>              </td></tr>\n",
      "      <tr class=\"spacer\" style=\"height:5px\"></tr>\n",
      "                <tr class='athing' id='18449641'>\n",
      "      <td align=\"right\" valign=\"top\" class=\"title\"><span class=\"rank\">23.</span></td>      <td valign=\"top\" class=\"votelinks\"><center><a id='up_18449641' href='vote?id=18449641&amp;how=up&amp;goto=news'><div class='votearrow' title='upvote'></div></a></center></td><td class=\"title\"><a href=\"https://github-trending-plus.surge.sh/\" class=\"storylink\">Show HN: An experimental Github/trending User Interface</a><span class=\"sitebit comhead\"> (<a href=\"from?site=surge.sh\"><span class=\"sitestr\">surge.sh</span></a>)</span></td></tr><tr><td colspan=\"2\"></td><td class=\"subtext\">\n",
      "        <span class=\"score\" id=\"score_18449641\">36 points</span> by <a href=\"user?id=tinchox5\" class=\"hnuser\">tinchox5</a> <span class=\"age\"><a href=\"item?id=18449641\">6 hours ago</a></span> <span id=\"unv_18449641\"></span> | <a href=\"hide?id=18449641&amp;goto=news\">hide</a> | <a href=\"item?id=18449641\">30&nbsp;comments</a>              </td></tr>\n",
      "      <tr class=\"spacer\" style=\"height:5px\"></tr>\n",
      "                <tr class='athing' id='18449407'>\n",
      "      <td align=\"right\" valign=\"top\" class=\"title\"><span class=\"rank\">24.</span></td>      <td valign=\"top\" class=\"votelinks\"><center><a id='up_18449407' href='vote?id=18449407&amp;how=up&amp;goto=news'><div class='votearrow' title='upvote'></div></a></center></td><td class=\"title\"><a href=\"http://w7zoi.net/dcrx68.pdf\" class=\"storylink\">Direct Conversion Receivers: Some Amateur Radio History [pdf]</a><span class=\"sitebit comhead\"> (<a href=\"from?site=w7zoi.net\"><span class=\"sitestr\">w7zoi.net</span></a>)</span></td></tr><tr><td colspan=\"2\"></td><td class=\"subtext\">\n",
      "        <span class=\"score\" id=\"score_18449407\">34 points</span> by <a href=\"user?id=privong\" class=\"hnuser\">privong</a> <span class=\"age\"><a href=\"item?id=18449407\">7 hours ago</a></span> <span id=\"unv_18449407\"></span> | <a href=\"hide?id=18449407&amp;goto=news\">hide</a> | <a href=\"item?id=18449407\">8&nbsp;comments</a>              </td></tr>\n",
      "      <tr class=\"spacer\" style=\"height:5px\"></tr>\n",
      "                <tr class='athing' id='18459149'>\n",
      "      <td align=\"right\" valign=\"top\" class=\"title\"><span class=\"rank\">25.</span></td>      <td valign=\"top\" class=\"votelinks\"><center><a id='up_18459149' href='vote?id=18459149&amp;how=up&amp;goto=news'><div class='votearrow' title='upvote'></div></a></center></td><td class=\"title\"><a href=\"https://github.com/subotkevic/vue-lazy-image-loading\" class=\"storylink\">Vue Lazy Image Loading</a><span class=\"sitebit comhead\"> (<a href=\"from?site=github.com\"><span class=\"sitestr\">github.com</span></a>)</span></td></tr><tr><td colspan=\"2\"></td><td class=\"subtext\">\n",
      "        <span class=\"score\" id=\"score_18459149\">52 points</span> by <a href=\"user?id=subotkevic\" class=\"hnuser\">subotkevic</a> <span class=\"age\"><a href=\"item?id=18459149\">4 hours ago</a></span> <span id=\"unv_18459149\"></span> | <a href=\"hide?id=18459149&amp;goto=news\">hide</a> | <a href=\"item?id=18459149\">5&nbsp;comments</a>              </td></tr>\n",
      "      <tr class=\"spacer\" style=\"height:5px\"></tr>\n",
      "                <tr class='athing' id='18458035'>\n",
      "      <td align=\"right\" valign=\"top\" class=\"title\"><span class=\"rank\">26.</span></td>      <td valign=\"top\" class=\"votelinks\"><center><a id='up_18458035' href='vote?id=18458035&amp;how=up&amp;goto=news'><div class='votearrow' title='upvote'></div></a></center></td><td class=\"title\"><a href=\"https://startuplab.io/post/deploying-mastodon-on-digital-ocean\" class=\"storylink\">Deploying Mastodon on Digital Ocean</a><span class=\"sitebit comhead\"> (<a href=\"from?site=startuplab.io\"><span class=\"sitestr\">startuplab.io</span></a>)</span></td></tr><tr><td colspan=\"2\"></td><td class=\"subtext\">\n",
      "        <span class=\"score\" id=\"score_18458035\">91 points</span> by <a href=\"user?id=tomcam\" class=\"hnuser\">tomcam</a> <span class=\"age\"><a href=\"item?id=18458035\">8 hours ago</a></span> <span id=\"unv_18458035\"></span> | <a href=\"hide?id=18458035&amp;goto=news\">hide</a> | <a href=\"item?id=18458035\">33&nbsp;comments</a>              </td></tr>\n",
      "      <tr class=\"spacer\" style=\"height:5px\"></tr>\n",
      "                <tr class='athing' id='18457200'>\n",
      "      <td align=\"right\" valign=\"top\" class=\"title\"><span class=\"rank\">27.</span></td>      <td valign=\"top\" class=\"votelinks\"><center><a id='up_18457200' href='vote?id=18457200&amp;how=up&amp;goto=news'><div class='votearrow' title='upvote'></div></a></center></td><td class=\"title\"><a href=\"https://www.cnbc.com/2018/11/13/firms-trying-to-fill-jobs-should-try-paying-more-feds-kashkari-says.html\" class=\"storylink\">Companies struggling to fill jobs 'should try paying more,' Fed's Kashkari says</a><span class=\"sitebit comhead\"> (<a href=\"from?site=cnbc.com\"><span class=\"sitestr\">cnbc.com</span></a>)</span></td></tr><tr><td colspan=\"2\"></td><td class=\"subtext\">\n",
      "        <span class=\"score\" id=\"score_18457200\">421 points</span> by <a href=\"user?id=SQL2219\" class=\"hnuser\">SQL2219</a> <span class=\"age\"><a href=\"item?id=18457200\">12 hours ago</a></span> <span id=\"unv_18457200\"></span> | <a href=\"hide?id=18457200&amp;goto=news\">hide</a> | <a href=\"item?id=18457200\">342&nbsp;comments</a>              </td></tr>\n",
      "      <tr class=\"spacer\" style=\"height:5px\"></tr>\n",
      "                <tr class='athing' id='18458002'>\n",
      "      <td align=\"right\" valign=\"top\" class=\"title\"><span class=\"rank\">28.</span></td>      <td valign=\"top\" class=\"votelinks\"><center><a id='up_18458002' href='vote?id=18458002&amp;how=up&amp;goto=news'><div class='votearrow' title='upvote'></div></a></center></td><td class=\"title\"><a href=\"https://www.theguardian.com/society/2018/nov/14/western-lifestyle-high-blood-pressure-age-hypertension\" class=\"storylink\">Western lifestyle may cause blood pressure to rise with age</a><span class=\"sitebit comhead\"> (<a href=\"from?site=theguardian.com\"><span class=\"sitestr\">theguardian.com</span></a>)</span></td></tr><tr><td colspan=\"2\"></td><td class=\"subtext\">\n",
      "        <span class=\"score\" id=\"score_18458002\">91 points</span> by <a href=\"user?id=YeGoblynQueenne\" class=\"hnuser\">YeGoblynQueenne</a> <span class=\"age\"><a href=\"item?id=18458002\">8 hours ago</a></span> <span id=\"unv_18458002\"></span> | <a href=\"hide?id=18458002&amp;goto=news\">hide</a> | <a href=\"item?id=18458002\">52&nbsp;comments</a>              </td></tr>\n",
      "      <tr class=\"spacer\" style=\"height:5px\"></tr>\n",
      "                <tr class='athing' id='18449212'>\n",
      "      <td align=\"right\" valign=\"top\" class=\"title\"><span class=\"rank\">29.</span></td>      <td valign=\"top\" class=\"votelinks\"><center><a id='up_18449212' href='vote?id=18449212&amp;how=up&amp;goto=news'><div class='votearrow' title='upvote'></div></a></center></td><td class=\"title\"><a href=\"https://www.johndcook.com/blog/2010/07/13/lincoln-index/\" class=\"storylink\">Lincoln Index: Estimating the number of bugs left to find (2010)</a><span class=\"sitebit comhead\"> (<a href=\"from?site=johndcook.com\"><span class=\"sitestr\">johndcook.com</span></a>)</span></td></tr><tr><td colspan=\"2\"></td><td class=\"subtext\">\n",
      "        <span class=\"score\" id=\"score_18449212\">56 points</span> by <a href=\"user?id=ColinWright\" class=\"hnuser\">ColinWright</a> <span class=\"age\"><a href=\"item?id=18449212\">11 hours ago</a></span> <span id=\"unv_18449212\"></span> | <a href=\"hide?id=18449212&amp;goto=news\">hide</a> | <a href=\"item?id=18449212\">18&nbsp;comments</a>              </td></tr>\n",
      "      <tr class=\"spacer\" style=\"height:5px\"></tr>\n",
      "                <tr class='athing' id='18445613'>\n",
      "      <td align=\"right\" valign=\"top\" class=\"title\"><span class=\"rank\">30.</span></td>      <td valign=\"top\" class=\"votelinks\"><center><a id='up_18445613' href='vote?id=18445613&amp;how=up&amp;goto=news'><div class='votearrow' title='upvote'></div></a></center></td><td class=\"title\"><a href=\"https://changelog.com/jsparty/42\" class=\"storylink\">Decentralizing the web with Beaker</a><span class=\"sitebit comhead\"> (<a href=\"from?site=changelog.com\"><span class=\"sitestr\">changelog.com</span></a>)</span></td></tr><tr><td colspan=\"2\"></td><td class=\"subtext\">\n",
      "        <span class=\"score\" id=\"score_18445613\">60 points</span> by <a href=\"user?id=feross\" class=\"hnuser\">feross</a> <span class=\"age\"><a href=\"item?id=18445613\">5 hours ago</a></span> <span id=\"unv_18445613\"></span> | <a href=\"hide?id=18445613&amp;goto=news\">hide</a> | <a href=\"item?id=18445613\">16&nbsp;comments</a>              </td></tr>\n",
      "      <tr class=\"spacer\" style=\"height:5px\"></tr>\n",
      "            <tr class=\"morespace\" style=\"height:10px\"></tr><tr><td colspan=\"2\"></td><td class=\"title\"><a href=\"news?p=2\" class=\"morelink\" rel=\"nofollow\">More</a></td></tr>\n",
      "  </table>\n",
      "</td></tr>\n",
      "<tr><td><img src=\"s.gif\" height=\"10\" width=\"0\"><table width=\"100%\" cellspacing=\"0\" cellpadding=\"1\"><tr><td bgcolor=\"#ff6600\"></td></tr></table><br><center><span class=\"yclinks\"><a href=\"newsguidelines.html\">Guidelines</a>\n",
      "        | <a href=\"newsfaq.html\">FAQ</a>\n",
      "        | <a href=\"mailto:hn@ycombinator.com\">Support</a>\n",
      "        | <a href=\"https://github.com/HackerNews/API\">API</a>\n",
      "        | <a href=\"security.html\">Security</a>\n",
      "        | <a href=\"lists\">Lists</a>\n",
      "        | <a href=\"bookmarklet.html\" rel=\"nofollow\">Bookmarklet</a>\n",
      "        | <a href=\"http://www.ycombinator.com/legal/\">Legal</a>\n",
      "        | <a href=\"http://www.ycombinator.com/apply/\">Apply to YC</a>\n",
      "        | <a href=\"mailto:hn@ycombinator.com\">Contact</a></span><br><br><form method=\"get\" action=\"//hn.algolia.com/\">Search:\n",
      "          <input type=\"text\" name=\"q\" value=\"\" size=\"17\" autocorrect=\"off\" spellcheck=\"false\" autocapitalize=\"off\" autocomplete=\"false\"></form>\n",
      "            </center></td></tr>\n",
      "      </table></center></body><script type='text/javascript' src='hn.js?tfZ7xJawI2K6fRTAGyd8'></script>\n",
      "  </html>\n",
      "\n"
     ]
    }
   ],
   "source": [
    "#fetch a webpage\n",
    "#r=requests.get(\"https://us.sagepub.com/en-us/nam/author/bora-pajo\")\n",
    "r=requests.get(\"https://news.ycombinator.com\")\n",
    "print (r.text)"
   ]
  },
  {
   "cell_type": "code",
   "execution_count": 34,
   "metadata": {},
   "outputs": [
    {
     "name": "stdout",
     "output_type": "stream",
     "text": [
      "\n",
      "            \n",
      "          \n",
      "        Hacker News\n",
      "        \n",
      "                  Hacker News\n",
      "              new | comments | show | ask | jobs | submit            \n",
      "                              login\n",
      "                          \n",
      "              \n",
      "\n",
      "              \n",
      "      1.      Airtable raises $100M at a $1.1B valuation (techcrunch.com)\n",
      "        63 points by kbyatnal 1 hour ago  | hide | 7&nbsp;comments              \n",
      "      \n",
      "                \n",
      "      2.      Germany plans 3B in AI investments (reuters.com)\n",
      "        79 points by jonbaer 2 hours ago  | hide | 38&nbsp;comments              \n",
      "      \n",
      "                \n",
      "      3.      How  Smart People Sabotage Their Success (hbr.org)\n",
      "        181 points by apress 3 hours ago  | hide | 77&nbsp;comments              \n",
      "      \n",
      "                \n",
      "      4.      sr.ht, the hacker's forge, now open for public alpha (drewdevault.com)\n",
      "        334 points by Sir_Cmpwn 4 hours ago  | hide | 66&nbsp;comments              \n",
      "      \n",
      "                \n",
      "      5.      Krisp.ai – Mute background noise during your calls (krisp.ai)\n",
      "        32 points by nyxtom 1 hour ago  | hide | 9&nbsp;comments              \n",
      "      \n",
      "                \n",
      "      6.      Evolved antenna (wikipedia.org)\n",
      "        23 points by zilic 1 hour ago  | hide | 5&nbsp;comments              \n",
      "      \n",
      "                \n",
      "      7.      SpamAssassin is back (lwn.net)\n",
      "        221 points by l2dy 7 hours ago  | hide | 44&nbsp;comments              \n",
      "      \n",
      "                \n",
      "      8.      Introducing SourceKit-LSP (swift.org)\n",
      "        13 points by mbroncano 1 hour ago  | hide | discuss              \n",
      "      \n",
      "                \n",
      "      9.      Slate JS – A customizable framework for building rich text editors (slatejs.org)\n",
      "        336 points by migueloller 11 hours ago  | hide | 95&nbsp;comments              \n",
      "      \n",
      "                \n",
      "      10.      Beyond Passwords: 2FA, U2F and Google Advanced Protection (troyhunt.com)\n",
      "        203 points by nikbackm 9 hours ago  | hide | 108&nbsp;comments              \n",
      "      \n",
      "                \n",
      "      11.      Japan's cyber-security minister has 'never used a computer' (bbc.com)\n",
      "        337 points by GeneticGenesis 4 hours ago  | hide | 245&nbsp;comments              \n",
      "      \n",
      "                \n",
      "      12.      Why we rolled our own consensus algorithm (quorumcontrol.com)\n",
      "        25 points by QCSmello 1 hour ago  | hide | 6&nbsp;comments              \n",
      "      \n",
      "                \n",
      "      13.      PG&E stock plunged 32% after it disclosed a possible link to California’s fire (bloomberg.com)\n",
      "        193 points by breitling 5 hours ago  | hide | 189&nbsp;comments              \n",
      "      \n",
      "                \n",
      "      14.      Show HN: Quicksy – Jabber with phone number verification and contact discovery (quicksy.im)\n",
      "        10 points by inputmice 33 minutes ago  | hide | 1&nbsp;comment              \n",
      "      \n",
      "                \n",
      "      15.      Researchers discover seven new Meltdown and Spectre attacks (zdnet.com)\n",
      "        51 points by Garbage 1 hour ago  | hide | 6&nbsp;comments              \n",
      "      \n",
      "                \n",
      "      16.      Red Hat Enterprise Linux 8 Beta (redhat.com)\n",
      "        86 points by ciupicri 3 hours ago  | hide | 67&nbsp;comments              \n",
      "      \n",
      "                \n",
      "      17.      Crossing the Sahara in the Fourteenth Century (laphamsquarterly.org)\n",
      "        55 points by Thevet 7 hours ago  | hide | 20&nbsp;comments              \n",
      "      \n",
      "                \n",
      "      18.      Long Polling – Concepts and Considerations (ably.io)\n",
      "        20 points by srushtika 2 hours ago  | hide | 2&nbsp;comments              \n",
      "      \n",
      "                \n",
      "      19.      Google and Facebook are monopolies. Does it matter? [audio] (innovationforallcast.com)\n",
      "        79 points by sheana_ahlqvist 2 hours ago  | hide | 70&nbsp;comments              \n",
      "      \n",
      "                \n",
      "      20.      Facebook reportedly discredited critics by linking them to George Soros (theguardian.com)\n",
      "        182 points by nsedlet 1 hour ago  | hide | 138&nbsp;comments              \n",
      "      \n",
      "                \n",
      "      21.      A cheaper, smaller Raspberry Pi 3 is now available (engadget.com)\n",
      "        87 points by gmiller123456 3 hours ago  | hide | 45&nbsp;comments              \n",
      "      \n",
      "                \n",
      "      22.      The Essence of Nearly Anything, Drop by Limpid Drop (2007) (nytimes.com)\n",
      "        8 points by Tomte 3 hours ago  | hide | discuss              \n",
      "      \n",
      "                \n",
      "      23.      Show HN: An experimental Github/trending User Interface (surge.sh)\n",
      "        36 points by tinchox5 6 hours ago  | hide | 30&nbsp;comments              \n",
      "      \n",
      "                \n",
      "      24.      Direct Conversion Receivers: Some Amateur Radio History [pdf] (w7zoi.net)\n",
      "        34 points by privong 7 hours ago  | hide | 8&nbsp;comments              \n",
      "      \n",
      "                \n",
      "      25.      Vue Lazy Image Loading (github.com)\n",
      "        52 points by subotkevic 4 hours ago  | hide | 5&nbsp;comments              \n",
      "      \n",
      "                \n",
      "      26.      Deploying Mastodon on Digital Ocean (startuplab.io)\n",
      "        91 points by tomcam 8 hours ago  | hide | 33&nbsp;comments              \n",
      "      \n",
      "                \n",
      "      27.      Companies struggling to fill jobs 'should try paying more,' Fed's Kashkari says (cnbc.com)\n",
      "        421 points by SQL2219 12 hours ago  | hide | 342&nbsp;comments              \n",
      "      \n",
      "                \n",
      "      28.      Western lifestyle may cause blood pressure to rise with age (theguardian.com)\n",
      "        91 points by YeGoblynQueenne 8 hours ago  | hide | 52&nbsp;comments              \n",
      "      \n",
      "                \n",
      "      29.      Lincoln Index: Estimating the number of bugs left to find (2010) (johndcook.com)\n",
      "        56 points by ColinWright 11 hours ago  | hide | 18&nbsp;comments              \n",
      "      \n",
      "                \n",
      "      30.      Decentralizing the web with Beaker (changelog.com)\n",
      "        60 points by feross 5 hours ago  | hide | 16&nbsp;comments              \n",
      "      \n",
      "            More\n",
      "  \n",
      "\n",
      "Guidelines\n",
      "        | FAQ\n",
      "        | Support\n",
      "        | API\n",
      "        | Security\n",
      "        | Lists\n",
      "        | Bookmarklet\n",
      "        | Legal\n",
      "        | Apply to YC\n",
      "        | ContactSearch:\n",
      "          \n",
      "            \n",
      "      \n",
      "  \n",
      "\n"
     ]
    }
   ],
   "source": [
    "import re\n",
    "#remove html tags using regex\n",
    "pattern = re.compile(r'<.*?>')\n",
    "print (pattern.sub('', r.text))"
   ]
  },
  {
   "cell_type": "code",
   "execution_count": 35,
   "metadata": {},
   "outputs": [],
   "source": [
    "from bs4 import BeautifulSoup"
   ]
  },
  {
   "cell_type": "code",
   "execution_count": 36,
   "metadata": {},
   "outputs": [
    {
     "name": "stdout",
     "output_type": "stream",
     "text": [
      "\n",
      "            \n",
      "          \n",
      "        Hacker News\n",
      "        \n",
      "                  Hacker News\n",
      "              new | comments | show | ask | jobs | submit            \n",
      "                              login\n",
      "                          \n",
      "              \n",
      "\n",
      "              \n",
      "      1.      Airtable raises $100M at a $1.1B valuation (techcrunch.com)\n",
      "        63 points by kbyatnal 1 hour ago  | hide | 7 comments              \n",
      "      \n",
      "                \n",
      "      2.      Germany plans 3B in AI investments (reuters.com)\n",
      "        79 points by jonbaer 2 hours ago  | hide | 38 comments              \n",
      "      \n",
      "                \n",
      "      3.      How  Smart People Sabotage Their Success (hbr.org)\n",
      "        181 points by apress 3 hours ago  | hide | 77 comments              \n",
      "      \n",
      "                \n",
      "      4.      sr.ht, the hacker's forge, now open for public alpha (drewdevault.com)\n",
      "        334 points by Sir_Cmpwn 4 hours ago  | hide | 66 comments              \n",
      "      \n",
      "                \n",
      "      5.      Krisp.ai – Mute background noise during your calls (krisp.ai)\n",
      "        32 points by nyxtom 1 hour ago  | hide | 9 comments              \n",
      "      \n",
      "                \n",
      "      6.      Evolved antenna (wikipedia.org)\n",
      "        23 points by zilic 1 hour ago  | hide | 5 comments              \n",
      "      \n",
      "                \n",
      "      7.      SpamAssassin is back (lwn.net)\n",
      "        221 points by l2dy 7 hours ago  | hide | 44 comments              \n",
      "      \n",
      "                \n",
      "      8.      Introducing SourceKit-LSP (swift.org)\n",
      "        13 points by mbroncano 1 hour ago  | hide | discuss              \n",
      "      \n",
      "                \n",
      "      9.      Slate JS – A customizable framework for building rich text editors (slatejs.org)\n",
      "        336 points by migueloller 11 hours ago  | hide | 95 comments              \n",
      "      \n",
      "                \n",
      "      10.      Beyond Passwords: 2FA, U2F and Google Advanced Protection (troyhunt.com)\n",
      "        203 points by nikbackm 9 hours ago  | hide | 108 comments              \n",
      "      \n",
      "                \n",
      "      11.      Japan's cyber-security minister has 'never used a computer' (bbc.com)\n",
      "        337 points by GeneticGenesis 4 hours ago  | hide | 245 comments              \n",
      "      \n",
      "                \n",
      "      12.      Why we rolled our own consensus algorithm (quorumcontrol.com)\n",
      "        25 points by QCSmello 1 hour ago  | hide | 6 comments              \n",
      "      \n",
      "                \n",
      "      13.      PG&E stock plunged 32% after it disclosed a possible link to California’s fire (bloomberg.com)\n",
      "        193 points by breitling 5 hours ago  | hide | 189 comments              \n",
      "      \n",
      "                \n",
      "      14.      Show HN: Quicksy – Jabber with phone number verification and contact discovery (quicksy.im)\n",
      "        10 points by inputmice 33 minutes ago  | hide | 1 comment              \n",
      "      \n",
      "                \n",
      "      15.      Researchers discover seven new Meltdown and Spectre attacks (zdnet.com)\n",
      "        51 points by Garbage 1 hour ago  | hide | 6 comments              \n",
      "      \n",
      "                \n",
      "      16.      Red Hat Enterprise Linux 8 Beta (redhat.com)\n",
      "        86 points by ciupicri 3 hours ago  | hide | 67 comments              \n",
      "      \n",
      "                \n",
      "      17.      Crossing the Sahara in the Fourteenth Century (laphamsquarterly.org)\n",
      "        55 points by Thevet 7 hours ago  | hide | 20 comments              \n",
      "      \n",
      "                \n",
      "      18.      Long Polling – Concepts and Considerations (ably.io)\n",
      "        20 points by srushtika 2 hours ago  | hide | 2 comments              \n",
      "      \n",
      "                \n",
      "      19.      Google and Facebook are monopolies. Does it matter? [audio] (innovationforallcast.com)\n",
      "        79 points by sheana_ahlqvist 2 hours ago  | hide | 70 comments              \n",
      "      \n",
      "                \n",
      "      20.      Facebook reportedly discredited critics by linking them to George Soros (theguardian.com)\n",
      "        182 points by nsedlet 1 hour ago  | hide | 138 comments              \n",
      "      \n",
      "                \n",
      "      21.      A cheaper, smaller Raspberry Pi 3 is now available (engadget.com)\n",
      "        87 points by gmiller123456 3 hours ago  | hide | 45 comments              \n",
      "      \n",
      "                \n",
      "      22.      The Essence of Nearly Anything, Drop by Limpid Drop (2007) (nytimes.com)\n",
      "        8 points by Tomte 3 hours ago  | hide | discuss              \n",
      "      \n",
      "                \n",
      "      23.      Show HN: An experimental Github/trending User Interface (surge.sh)\n",
      "        36 points by tinchox5 6 hours ago  | hide | 30 comments              \n",
      "      \n",
      "                \n",
      "      24.      Direct Conversion Receivers: Some Amateur Radio History [pdf] (w7zoi.net)\n",
      "        34 points by privong 7 hours ago  | hide | 8 comments              \n",
      "      \n",
      "                \n",
      "      25.      Vue Lazy Image Loading (github.com)\n",
      "        52 points by subotkevic 4 hours ago  | hide | 5 comments              \n",
      "      \n",
      "                \n",
      "      26.      Deploying Mastodon on Digital Ocean (startuplab.io)\n",
      "        91 points by tomcam 8 hours ago  | hide | 33 comments              \n",
      "      \n",
      "                \n",
      "      27.      Companies struggling to fill jobs 'should try paying more,' Fed's Kashkari says (cnbc.com)\n",
      "        421 points by SQL2219 12 hours ago  | hide | 342 comments              \n",
      "      \n",
      "                \n",
      "      28.      Western lifestyle may cause blood pressure to rise with age (theguardian.com)\n",
      "        91 points by YeGoblynQueenne 8 hours ago  | hide | 52 comments              \n",
      "      \n",
      "                \n",
      "      29.      Lincoln Index: Estimating the number of bugs left to find (2010) (johndcook.com)\n",
      "        56 points by ColinWright 11 hours ago  | hide | 18 comments              \n",
      "      \n",
      "                \n",
      "      30.      Decentralizing the web with Beaker (changelog.com)\n",
      "        60 points by feross 5 hours ago  | hide | 16 comments              \n",
      "      \n",
      "            More\n",
      "  \n",
      "\n",
      "Guidelines\n",
      "        | FAQ\n",
      "        | Support\n",
      "        | API\n",
      "        | Security\n",
      "        | Lists\n",
      "        | Bookmarklet\n",
      "        | Legal\n",
      "        | Apply to YC\n",
      "        | ContactSearch:\n",
      "          \n",
      "            \n",
      "      \n",
      "  \n",
      "\n"
     ]
    }
   ],
   "source": [
    "#remove html tags using Beautifulsoup\n",
    "soup=BeautifulSoup(r.text, \"html5lib\")\n",
    "print (soup.get_text())"
   ]
  },
  {
   "cell_type": "code",
   "execution_count": 37,
   "metadata": {},
   "outputs": [
    {
     "data": {
      "text/plain": [
       "<tr class=\"athing\" id=\"18460902\">\n",
       "      <td align=\"right\" class=\"title\" valign=\"top\"><span class=\"rank\">1.</span></td>      <td class=\"votelinks\" valign=\"top\"><center><a href=\"vote?id=18460902&amp;how=up&amp;goto=news\" id=\"up_18460902\"><div class=\"votearrow\" title=\"upvote\"></div></a></center></td><td class=\"title\"><a class=\"storylink\" href=\"https://techcrunch.com/2018/11/15/airtable-maker-of-a-coding-platform-for-non-techies-raises-100m-at-a-1-1b-valuation/\">Airtable raises $100M at a $1.1B valuation</a><span class=\"sitebit comhead\"> (<a href=\"from?site=techcrunch.com\"><span class=\"sitestr\">techcrunch.com</span></a>)</span></td></tr>"
      ]
     },
     "execution_count": 37,
     "metadata": {},
     "output_type": "execute_result"
    }
   ],
   "source": [
    "#find all articles\n",
    "summaries=soup.find_all(\"tr\", class_=\"athing\")\n",
    "summaries[0]"
   ]
  },
  {
   "cell_type": "code",
   "execution_count": 38,
   "metadata": {},
   "outputs": [
    {
     "data": {
      "text/plain": [
       "'Airtable raises $100M at a $1.1B valuation'"
      ]
     },
     "execution_count": 38,
     "metadata": {},
     "output_type": "execute_result"
    }
   ],
   "source": [
    "#extract title\n",
    "summaries[0].find(\"a\", class_=\"storylink\").get_text().strip()\n"
   ]
  },
  {
   "cell_type": "code",
   "execution_count": 39,
   "metadata": {},
   "outputs": [
    {
     "name": "stdout",
     "output_type": "stream",
     "text": [
      "30 Article summaries found. Sample:\n",
      "Airtable raises $100M at a $1.1B valuation\n"
     ]
    }
   ],
   "source": [
    "#Find all articles, extract titles\n",
    "articles=[]\n",
    "summaries=soup.find_all(\"tr\", class_=\"athing\")\n",
    "for summary in summaries:\n",
    "    title=summary.find(\"a\", class_=\"storylink\").get_text().strip()\n",
    "    articles.append((title))\n",
    "    \n",
    "print(len(articles), \"Article summaries found. Sample:\")\n",
    "print(articles[0])"
   ]
  },
  {
   "cell_type": "code",
   "execution_count": 40,
   "metadata": {},
   "outputs": [
    {
     "name": "stdout",
     "output_type": "stream",
     "text": [
      "Hi Bora,Yes, you will receive another check from us for your leave payoffs.  You need to be an active employee to receive an retroactive increase.\n"
     ]
    }
   ],
   "source": [
    "#normalization\n",
    "#sample text\n",
    "text = \"Hi Bora,Yes, you will receive another check from us for your leave payoffs.  You need to be an active employee to receive an retroactive increase.\"\n",
    "print(text)"
   ]
  },
  {
   "cell_type": "code",
   "execution_count": 41,
   "metadata": {},
   "outputs": [
    {
     "name": "stdout",
     "output_type": "stream",
     "text": [
      "hi bora,yes, you will receive another check from us for your leave payoffs.  you need to be an active employee to receive an retroactive increase.\n"
     ]
    }
   ],
   "source": [
    "#convert lowercase\n",
    "text=text.lower()\n",
    "print(text)"
   ]
  },
  {
   "cell_type": "code",
   "execution_count": 42,
   "metadata": {},
   "outputs": [
    {
     "name": "stdout",
     "output_type": "stream",
     "text": [
      "hi bora yes  you will receive another check from us for your leave payoffs   you need to be an active employee to receive an retroactive increase \n"
     ]
    }
   ],
   "source": [
    "#punctuation removal\n",
    "import re\n",
    "text=re.sub(r\"[^a-zA-Z0-9]\", \" \", text)\n",
    "print(text)"
   ]
  },
  {
   "cell_type": "code",
   "execution_count": 43,
   "metadata": {},
   "outputs": [
    {
     "name": "stdout",
     "output_type": "stream",
     "text": [
      "['hi', 'bora', 'yes', 'you', 'will', 'receive', 'another', 'check', 'from', 'us', 'for', 'your', 'leave', 'payoffs', 'you', 'need', 'to', 'be', 'an', 'active', 'employee', 'to', 'receive', 'an', 'retroactive', 'increase']\n"
     ]
    }
   ],
   "source": [
    "#tokenization\n",
    "#split text into tokens \n",
    "words =text.split()\n",
    "print (words)"
   ]
  },
  {
   "cell_type": "code",
   "execution_count": 44,
   "metadata": {},
   "outputs": [],
   "source": [
    "import os\n",
    "import nltk\n",
    "nltk.data.path.append(os.path.join(os.getcwd(), \"nltk_data\"))\n"
   ]
  },
  {
   "cell_type": "code",
   "execution_count": 45,
   "metadata": {},
   "outputs": [],
   "source": [
    "from nltk.tokenize import word_tokenize"
   ]
  },
  {
   "cell_type": "code",
   "execution_count": 46,
   "metadata": {},
   "outputs": [
    {
     "name": "stdout",
     "output_type": "stream",
     "text": [
      "['hi', 'bora', 'yes', 'you', 'will', 'receive', 'another', 'check', 'from', 'us', 'for', 'your', 'leave', 'payoffs', 'you', 'need', 'to', 'be', 'an', 'active', 'employee', 'to', 'receive', 'an', 'retroactive', 'increase']\n"
     ]
    }
   ],
   "source": [
    "#split text into words using nltk\n",
    "words=word_tokenize(text)\n",
    "print(words)"
   ]
  },
  {
   "cell_type": "code",
   "execution_count": 47,
   "metadata": {},
   "outputs": [],
   "source": [
    "from nltk.tokenize import sent_tokenize"
   ]
  },
  {
   "cell_type": "code",
   "execution_count": 48,
   "metadata": {},
   "outputs": [
    {
     "name": "stdout",
     "output_type": "stream",
     "text": [
      "['hi bora yes  you will receive another check from us for your leave payoffs   you need to be an active employee to receive an retroactive increase']\n"
     ]
    }
   ],
   "source": [
    "#split text into sentence\n",
    "sentences=sent_tokenize(text)\n",
    "print(sentences)"
   ]
  },
  {
   "cell_type": "code",
   "execution_count": 50,
   "metadata": {},
   "outputs": [
    {
     "name": "stdout",
     "output_type": "stream",
     "text": [
      "[nltk_data] Downloading package stopwords to\n",
      "[nltk_data]     C:\\Users\\pajob\\AppData\\Roaming\\nltk_data...\n",
      "[nltk_data]   Unzipping corpora\\stopwords.zip.\n",
      "['i', 'me', 'my', 'myself', 'we', 'our', 'ours', 'ourselves', 'you', \"you're\", \"you've\", \"you'll\", \"you'd\", 'your', 'yours', 'yourself', 'yourselves', 'he', 'him', 'his', 'himself', 'she', \"she's\", 'her', 'hers', 'herself', 'it', \"it's\", 'its', 'itself', 'they', 'them', 'their', 'theirs', 'themselves', 'what', 'which', 'who', 'whom', 'this', 'that', \"that'll\", 'these', 'those', 'am', 'is', 'are', 'was', 'were', 'be', 'been', 'being', 'have', 'has', 'had', 'having', 'do', 'does', 'did', 'doing', 'a', 'an', 'the', 'and', 'but', 'if', 'or', 'because', 'as', 'until', 'while', 'of', 'at', 'by', 'for', 'with', 'about', 'against', 'between', 'into', 'through', 'during', 'before', 'after', 'above', 'below', 'to', 'from', 'up', 'down', 'in', 'out', 'on', 'off', 'over', 'under', 'again', 'further', 'then', 'once', 'here', 'there', 'when', 'where', 'why', 'how', 'all', 'any', 'both', 'each', 'few', 'more', 'most', 'other', 'some', 'such', 'no', 'nor', 'not', 'only', 'own', 'same', 'so', 'than', 'too', 'very', 's', 't', 'can', 'will', 'just', 'don', \"don't\", 'should', \"should've\", 'now', 'd', 'll', 'm', 'o', 're', 've', 'y', 'ain', 'aren', \"aren't\", 'couldn', \"couldn't\", 'didn', \"didn't\", 'doesn', \"doesn't\", 'hadn', \"hadn't\", 'hasn', \"hasn't\", 'haven', \"haven't\", 'isn', \"isn't\", 'ma', 'mightn', \"mightn't\", 'mustn', \"mustn't\", 'needn', \"needn't\", 'shan', \"shan't\", 'shouldn', \"shouldn't\", 'wasn', \"wasn't\", 'weren', \"weren't\", 'won', \"won't\", 'wouldn', \"wouldn't\"]\n"
     ]
    }
   ],
   "source": [
    "#list stopwords\n",
    "#from nltk.corpus import stopwords\n",
    "nltk.download('stopwords')\n",
    "print(stopwords.words(\"english\"))"
   ]
  },
  {
   "cell_type": "code",
   "execution_count": 51,
   "metadata": {},
   "outputs": [
    {
     "name": "stdout",
     "output_type": "stream",
     "text": [
      "['hi', 'bora', 'yes', 'you', 'will', 'receive', 'another', 'check', 'from', 'us', 'for', 'your', 'leave', 'payoffs', 'you', 'need', 'to', 'be', 'an', 'active', 'employee', 'to', 'receive', 'an', 'retroactive', 'increase']\n"
     ]
    }
   ],
   "source": [
    "#reset text\n",
    "#normalize it\n",
    "text=re.sub(r\"[^a-zA-Z0-9]\", \" \", text.lower())\n",
    "#tokenize it\n",
    "words=text.split()\n",
    "print(words)"
   ]
  },
  {
   "cell_type": "code",
   "execution_count": 52,
   "metadata": {},
   "outputs": [
    {
     "name": "stdout",
     "output_type": "stream",
     "text": [
      "['hi', 'bora', 'yes', 'receive', 'another', 'check', 'us', 'leave', 'payoffs', 'need', 'active', 'employee', 'receive', 'retroactive', 'increase']\n"
     ]
    }
   ],
   "source": [
    "#remove stopwords\n",
    "words=[w for w in words if w not in stopwords.words(\"english\")]\n",
    "print(words)"
   ]
  },
  {
   "cell_type": "code",
   "execution_count": 56,
   "metadata": {},
   "outputs": [
    {
     "name": "stdout",
     "output_type": "stream",
     "text": [
      "(S\n",
      "  (NP I)\n",
      "  (VP\n",
      "    (VP (V shot) (NP (Det an) (N elephant)))\n",
      "    (PP (P in) (NP (Det my) (N pajamas)))))\n",
      "(S\n",
      "  (NP I)\n",
      "  (VP\n",
      "    (V shot)\n",
      "    (NP (Det an) (N elephant) (PP (P in) (NP (Det my) (N pajamas))))))\n"
     ]
    }
   ],
   "source": [
    "#sentence parsing\n",
    "my_grammar=nltk.CFG.fromstring(\"\"\"\n",
    "S -> NP VP\n",
    "PP -> P NP\n",
    "NP -> Det N | Det N PP | 'I'\n",
    "VP -> V NP | VP PP\n",
    "Det -> 'an' | 'my'\n",
    "N -> 'elephant' | 'pajamas'\n",
    "V -> 'shot'\n",
    "P -> 'in'\n",
    "\"\"\")\n",
    "parser = nltk.ChartParser(my_grammar)\n",
    "#parse a sentence\n",
    "sentence = word_tokenize(\"I shot an elephant in my pajamas\")\n",
    "for tree in parser.parse(sentence):\n",
    "    print(tree)\n"
   ]
  },
  {
   "cell_type": "code",
   "execution_count": 70,
   "metadata": {},
   "outputs": [],
   "source": [
    "for tree in parser.parse(sentence):\n",
    "    tree.draw()"
   ]
  },
  {
   "cell_type": "code",
   "execution_count": 57,
   "metadata": {},
   "outputs": [],
   "source": [
    "#stemming\n",
    "from nltk.stem.porter import PorterStemmer"
   ]
  },
  {
   "cell_type": "code",
   "execution_count": 58,
   "metadata": {},
   "outputs": [
    {
     "name": "stdout",
     "output_type": "stream",
     "text": [
      "['hi', 'bora', 'ye', 'receiv', 'anoth', 'check', 'us', 'leav', 'payoff', 'need', 'activ', 'employe', 'receiv', 'retroact', 'increas']\n"
     ]
    }
   ],
   "source": [
    "#reduce words to their stemps\n",
    "stemmed = [PorterStemmer().stem(w) for w in words]\n",
    "print(stemmed)"
   ]
  },
  {
   "cell_type": "code",
   "execution_count": 66,
   "metadata": {},
   "outputs": [
    {
     "name": "stdout",
     "output_type": "stream",
     "text": [
      "[nltk_data] Downloading package wordnet to\n",
      "[nltk_data]     C:\\Users\\pajob\\AppData\\Roaming\\nltk_data...\n",
      "[nltk_data]   Unzipping corpora\\wordnet.zip.\n",
      "['hi', 'bora', 'yes', 'receive', 'another', 'check', 'u', 'leave', 'payoff', 'need', 'active', 'employee', 'receive', 'retroactive', 'increase']\n"
     ]
    }
   ],
   "source": [
    "#lemmatization\n",
    "from nltk.stem.wordnet import WordNetLemmatizer\n",
    "nltk.download('wordnet')\n"
   ]
  },
  {
   "cell_type": "code",
   "execution_count": 67,
   "metadata": {},
   "outputs": [
    {
     "name": "stdout",
     "output_type": "stream",
     "text": [
      "['hi', 'bora', 'yes', 'receive', 'another', 'check', 'u', 'leave', 'payoff', 'need', 'active', 'employee', 'receive', 'retroactive', 'increase']\n"
     ]
    }
   ],
   "source": [
    "lem=[WordNetLemmatizer().lemmatize(w) for w in words]\n",
    "print (lem)"
   ]
  },
  {
   "cell_type": "code",
   "execution_count": 68,
   "metadata": {},
   "outputs": [
    {
     "name": "stdout",
     "output_type": "stream",
     "text": [
      "['hi', 'bora', 'yes', 'receive', 'another', 'check', 'u', 'leave', 'payoff', 'need', 'active', 'employee', 'receive', 'retroactive', 'increase']\n"
     ]
    }
   ],
   "source": [
    "#reduce words to their root pos\n",
    "lem=[WordNetLemmatizer().lemmatize(w, pos='v') for w in lem]\n",
    "print (lem)"
   ]
  },
  {
   "cell_type": "code",
   "execution_count": null,
   "metadata": {},
   "outputs": [],
   "source": [
    "#the simplest form is text data\n",
    "#try to put in words all the exercises above\n",
    "#this is enough material for an entire month in NLP\n"
   ]
  },
  {
   "cell_type": "code",
   "execution_count": 69,
   "metadata": {},
   "outputs": [],
   "source": [
    "#http://www.nltk.org/api/nltk.tokenize.html"
   ]
  },
  {
   "cell_type": "code",
   "execution_count": 78,
   "metadata": {},
   "outputs": [
    {
     "name": "stdout",
     "output_type": "stream",
     "text": [
      "[nltk_data] Downloading package averaged_perceptron_tagger to\n",
      "[nltk_data]     C:\\Users\\pajob\\AppData\\Roaming\\nltk_data...\n",
      "[nltk_data]   Package averaged_perceptron_tagger is already up-to-\n",
      "[nltk_data]       date!\n",
      "[nltk_data] Downloading package maxent_ne_chunker to\n",
      "[nltk_data]     C:\\Users\\pajob\\AppData\\Roaming\\nltk_data...\n",
      "[nltk_data]   Package maxent_ne_chunker is already up-to-date!\n",
      "[nltk_data] Downloading package words to\n",
      "[nltk_data]     C:\\Users\\pajob\\AppData\\Roaming\\nltk_data...\n",
      "[nltk_data]   Unzipping corpora\\words.zip.\n"
     ]
    },
    {
     "data": {
      "text/plain": [
       "True"
      ]
     },
     "execution_count": 78,
     "metadata": {},
     "output_type": "execute_result"
    }
   ],
   "source": [
    "from nltk import pos_tag, ne_chunk\n",
    "nltk.download('averaged_perceptron_tagger')\n",
    "nltk.download('maxent_ne_chunker')\n",
    "nltk.download('words')"
   ]
  },
  {
   "cell_type": "code",
   "execution_count": 80,
   "metadata": {},
   "outputs": [
    {
     "ename": "LookupError",
     "evalue": "\n\n===========================================================================\nNLTK was unable to find the gs file!\nUse software specific configuration paramaters or set the PATH environment variable.\n===========================================================================",
     "output_type": "error",
     "traceback": [
      "\u001b[1;31m---------------------------------------------------------------------------\u001b[0m",
      "\u001b[1;31mLookupError\u001b[0m                               Traceback (most recent call last)",
      "\u001b[1;32mC:\\ProgramData\\Anaconda3\\lib\\site-packages\\IPython\\core\\formatters.py\u001b[0m in \u001b[0;36m__call__\u001b[1;34m(self, obj)\u001b[0m\n\u001b[0;32m    343\u001b[0m             \u001b[0mmethod\u001b[0m \u001b[1;33m=\u001b[0m \u001b[0mget_real_method\u001b[0m\u001b[1;33m(\u001b[0m\u001b[0mobj\u001b[0m\u001b[1;33m,\u001b[0m \u001b[0mself\u001b[0m\u001b[1;33m.\u001b[0m\u001b[0mprint_method\u001b[0m\u001b[1;33m)\u001b[0m\u001b[1;33m\u001b[0m\u001b[0m\n\u001b[0;32m    344\u001b[0m             \u001b[1;32mif\u001b[0m \u001b[0mmethod\u001b[0m \u001b[1;32mis\u001b[0m \u001b[1;32mnot\u001b[0m \u001b[1;32mNone\u001b[0m\u001b[1;33m:\u001b[0m\u001b[1;33m\u001b[0m\u001b[0m\n\u001b[1;32m--> 345\u001b[1;33m                 \u001b[1;32mreturn\u001b[0m \u001b[0mmethod\u001b[0m\u001b[1;33m(\u001b[0m\u001b[1;33m)\u001b[0m\u001b[1;33m\u001b[0m\u001b[0m\n\u001b[0m\u001b[0;32m    346\u001b[0m             \u001b[1;32mreturn\u001b[0m \u001b[1;32mNone\u001b[0m\u001b[1;33m\u001b[0m\u001b[0m\n\u001b[0;32m    347\u001b[0m         \u001b[1;32melse\u001b[0m\u001b[1;33m:\u001b[0m\u001b[1;33m\u001b[0m\u001b[0m\n",
      "\u001b[1;32mC:\\ProgramData\\Anaconda3\\lib\\site-packages\\nltk\\tree.py\u001b[0m in \u001b[0;36m_repr_png_\u001b[1;34m(self)\u001b[0m\n\u001b[0;32m    728\u001b[0m             \u001b[0m_canvas_frame\u001b[0m\u001b[1;33m.\u001b[0m\u001b[0mprint_to_file\u001b[0m\u001b[1;33m(\u001b[0m\u001b[0min_path\u001b[0m\u001b[1;33m)\u001b[0m\u001b[1;33m\u001b[0m\u001b[0m\n\u001b[0;32m    729\u001b[0m             \u001b[0m_canvas_frame\u001b[0m\u001b[1;33m.\u001b[0m\u001b[0mdestroy_widget\u001b[0m\u001b[1;33m(\u001b[0m\u001b[0mwidget\u001b[0m\u001b[1;33m)\u001b[0m\u001b[1;33m\u001b[0m\u001b[0m\n\u001b[1;32m--> 730\u001b[1;33m             subprocess.call([find_binary('gs', binary_names=['gswin32c.exe', 'gswin64c.exe'], env_vars=['PATH'], verbose=False)] +\n\u001b[0m\u001b[0;32m    731\u001b[0m                             \u001b[1;34m'-q -dEPSCrop -sDEVICE=png16m -r90 -dTextAlphaBits=4 -dGraphicsAlphaBits=4 -dSAFER -dBATCH -dNOPAUSE -sOutputFile={0:} {1:}'\u001b[0m\u001b[1;33m\u001b[0m\u001b[0m\n\u001b[0;32m    732\u001b[0m                             .format(out_path, in_path).split())\n",
      "\u001b[1;32mC:\\ProgramData\\Anaconda3\\lib\\site-packages\\nltk\\__init__.py\u001b[0m in \u001b[0;36mfind_binary\u001b[1;34m(name, path_to_bin, env_vars, searchpath, binary_names, url, verbose)\u001b[0m\n\u001b[0;32m    602\u001b[0m                 binary_names=None, url=None, verbose=False):\n\u001b[0;32m    603\u001b[0m     return next(find_binary_iter(name, path_to_bin, env_vars, searchpath,\n\u001b[1;32m--> 604\u001b[1;33m                                  binary_names, url, verbose))\n\u001b[0m\u001b[0;32m    605\u001b[0m \u001b[1;33m\u001b[0m\u001b[0m\n\u001b[0;32m    606\u001b[0m def find_jar_iter(name_pattern, path_to_jar=None, env_vars=(),\n",
      "\u001b[1;32mC:\\ProgramData\\Anaconda3\\lib\\site-packages\\nltk\\__init__.py\u001b[0m in \u001b[0;36mfind_binary_iter\u001b[1;34m(name, path_to_bin, env_vars, searchpath, binary_names, url, verbose)\u001b[0m\n\u001b[0;32m    596\u001b[0m     \"\"\"\n\u001b[0;32m    597\u001b[0m     for file in  find_file_iter(path_to_bin or name, env_vars, searchpath, binary_names,\n\u001b[1;32m--> 598\u001b[1;33m                      url, verbose):\n\u001b[0m\u001b[0;32m    599\u001b[0m         \u001b[1;32myield\u001b[0m \u001b[0mfile\u001b[0m\u001b[1;33m\u001b[0m\u001b[0m\n\u001b[0;32m    600\u001b[0m \u001b[1;33m\u001b[0m\u001b[0m\n",
      "\u001b[1;32mC:\\ProgramData\\Anaconda3\\lib\\site-packages\\nltk\\__init__.py\u001b[0m in \u001b[0;36mfind_file_iter\u001b[1;34m(filename, env_vars, searchpath, file_names, url, verbose, finding_dir)\u001b[0m\n\u001b[0;32m    567\u001b[0m                         (filename, url))\n\u001b[0;32m    568\u001b[0m         \u001b[0mdiv\u001b[0m \u001b[1;33m=\u001b[0m \u001b[1;34m'='\u001b[0m\u001b[1;33m*\u001b[0m\u001b[1;36m75\u001b[0m\u001b[1;33m\u001b[0m\u001b[0m\n\u001b[1;32m--> 569\u001b[1;33m         \u001b[1;32mraise\u001b[0m \u001b[0mLookupError\u001b[0m\u001b[1;33m(\u001b[0m\u001b[1;34m'\\n\\n%s\\n%s\\n%s'\u001b[0m \u001b[1;33m%\u001b[0m \u001b[1;33m(\u001b[0m\u001b[0mdiv\u001b[0m\u001b[1;33m,\u001b[0m \u001b[0mmsg\u001b[0m\u001b[1;33m,\u001b[0m \u001b[0mdiv\u001b[0m\u001b[1;33m)\u001b[0m\u001b[1;33m)\u001b[0m\u001b[1;33m\u001b[0m\u001b[0m\n\u001b[0m\u001b[0;32m    570\u001b[0m \u001b[1;33m\u001b[0m\u001b[0m\n\u001b[0;32m    571\u001b[0m \u001b[1;33m\u001b[0m\u001b[0m\n",
      "\u001b[1;31mLookupError\u001b[0m: \n\n===========================================================================\nNLTK was unable to find the gs file!\nUse software specific configuration paramaters or set the PATH environment variable.\n==========================================================================="
     ]
    },
    {
     "data": {
      "text/plain": [
       "Tree('S', [Tree('PERSON', [('Antonio', 'NNP')]), ('joined', 'VBD'), Tree('ORGANIZATION', [('Udacity', 'NNP'), ('Inc.', 'NNP')]), ('in', 'IN'), Tree('GPE', [('California', 'NNP')])])"
      ]
     },
     "execution_count": 80,
     "metadata": {},
     "output_type": "execute_result"
    }
   ],
   "source": [
    "ne_chunk(pos_tag(word_tokenize(\"Antonio joined Udacity Inc. in California\")))"
   ]
  },
  {
   "cell_type": "code",
   "execution_count": null,
   "metadata": {},
   "outputs": [],
   "source": []
  }
 ],
 "metadata": {
  "kernelspec": {
   "display_name": "Python 3",
   "language": "python",
   "name": "python3"
  },
  "language_info": {
   "codemirror_mode": {
    "name": "ipython",
    "version": 3
   },
   "file_extension": ".py",
   "mimetype": "text/x-python",
   "name": "python",
   "nbconvert_exporter": "python",
   "pygments_lexer": "ipython3",
   "version": "3.7.0"
  }
 },
 "nbformat": 4,
 "nbformat_minor": 2
}
